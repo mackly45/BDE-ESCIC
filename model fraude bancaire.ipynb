{
  "nbformat": 4,
  "nbformat_minor": 0,
  "metadata": {
    "colab": {
      "provenance": [],
      "authorship_tag": "ABX9TyNXWlWFVuzCQ/b0QqcH5LZz",
      "include_colab_link": true
    },
    "kernelspec": {
      "name": "python3",
      "display_name": "Python 3"
    },
    "language_info": {
      "name": "python"
    }
  },
  "cells": [
    {
      "cell_type": "markdown",
      "metadata": {
        "id": "view-in-github",
        "colab_type": "text"
      },
      "source": [
        "<a href=\"https://colab.research.google.com/github/mackly45/BDE-ESCIC/blob/main/model%20fraude%20bancaire.ipynb\" target=\"_parent\"><img src=\"https://colab.research.google.com/assets/colab-badge.svg\" alt=\"Open In Colab\"/></a>"
      ]
    },
    {
      "cell_type": "markdown",
      "source": [
        "# **Importation des bibliothèques nécessaires**"
      ],
      "metadata": {
        "id": "8zTPjPQRRyiM"
      }
    },
    {
      "cell_type": "code",
      "execution_count": 1,
      "metadata": {
        "id": "7aOYw-APRvgs"
      },
      "outputs": [],
      "source": [
        "import pandas as pd\n",
        "import numpy as np\n",
        "from sklearn.model_selection import train_test_split\n",
        "from sklearn.preprocessing import StandardScaler, OneHotEncoder\n",
        "from sklearn.linear_model import LogisticRegression\n",
        "from sklearn.ensemble import RandomForestClassifier\n",
        "from sklearn.svm import SVC\n",
        "from sklearn.metrics import classification_report, f1_score\n",
        "from sklearn.compose import ColumnTransformer\n",
        "from sklearn.pipeline import Pipeline"
      ]
    },
    {
      "cell_type": "markdown",
      "source": [
        " Monter Google ***Drive***"
      ],
      "metadata": {
        "id": "t5cx62MtSCYw"
      }
    },
    {
      "cell_type": "code",
      "source": [
        "from google.colab import drive\n",
        "drive.mount('/content/drive')"
      ],
      "metadata": {
        "colab": {
          "base_uri": "https://localhost:8080/"
        },
        "id": "IaEcsPvFSHEp",
        "outputId": "22dda1bb-f00e-4220-b186-ecb0f5442962"
      },
      "execution_count": 2,
      "outputs": [
        {
          "output_type": "stream",
          "name": "stdout",
          "text": [
            "Mounted at /content/drive\n"
          ]
        }
      ]
    },
    {
      "cell_type": "markdown",
      "source": [
        "**Charger le fichier CSV**"
      ],
      "metadata": {
        "id": "nVehfarmSbnP"
      }
    },
    {
      "cell_type": "code",
      "source": [
        "df = pd.read_csv('/content/drive/My Drive/Colab Notebooks/transactions.csv')\n"
      ],
      "metadata": {
        "id": "Ur_Nu9C3Sf13"
      },
      "execution_count": 3,
      "outputs": []
    },
    {
      "cell_type": "markdown",
      "source": [
        "Affichage des premières lignes du fichier pour vérifier la ***structure***"
      ],
      "metadata": {
        "id": "v4fudEffSpW6"
      }
    },
    {
      "cell_type": "code",
      "source": [
        "print(\"Aperçu des données :\")\n",
        "print(df.head())"
      ],
      "metadata": {
        "colab": {
          "base_uri": "https://localhost:8080/"
        },
        "id": "SoGXuEklSrho",
        "outputId": "0cd12849-b831-4764-8776-2a536a153a2d"
      },
      "execution_count": 4,
      "outputs": [
        {
          "output_type": "stream",
          "name": "stdout",
          "text": [
            "Aperçu des données :\n",
            "   transaction_id   amount                 time       location  account_age  \\\n",
            "0               1  3250.17  2024-07-11 00:00:00    Los Angeles            3   \n",
            "1               2  4535.14  2024-07-11 01:00:00        Chicago            9   \n",
            "2               3  1095.94  2024-07-11 02:00:00       New York            2   \n",
            "3               4  3831.26  2024-07-11 03:00:00  San Francisco            3   \n",
            "4               5  2742.76  2024-07-11 04:00:00        Houston            4   \n",
            "\n",
            "  transaction_type  is_fraud  \n",
            "0        transfert         1  \n",
            "1         virement         0  \n",
            "2            achat         0  \n",
            "3         paiement         0  \n",
            "4         virement         1  \n"
          ]
        }
      ]
    },
    {
      "cell_type": "markdown",
      "source": [
        "## ***Partie 1 : Préparation des données***"
      ],
      "metadata": {
        "id": "jb3pMQvaS1Yk"
      }
    },
    {
      "cell_type": "markdown",
      "source": [
        "Nettoyage des données : suppression des valeurs manquantes et des **doublons**"
      ],
      "metadata": {
        "id": "3G_WfUcqS_y4"
      }
    },
    {
      "cell_type": "code",
      "source": [
        "df.dropna(inplace=True)\n",
        "df.drop_duplicates(inplace=True)\n"
      ],
      "metadata": {
        "id": "aH1tajIhS6zl"
      },
      "execution_count": 5,
      "outputs": []
    },
    {
      "cell_type": "markdown",
      "source": [
        "Définition des colonnes catégorielles et **numériques**"
      ],
      "metadata": {
        "id": "sem1JRsATIgW"
      }
    },
    {
      "cell_type": "code",
      "source": [
        "categorical_cols = ['transaction_type', 'location']\n",
        "numerical_cols = ['amount', 'account_age']\n"
      ],
      "metadata": {
        "id": "ICcoVmBdTN8t"
      },
      "execution_count": 6,
      "outputs": []
    },
    {
      "cell_type": "markdown",
      "source": [
        "Séparation des variables d'entrée (X) et de sortie (y)"
      ],
      "metadata": {
        "id": "OcoAx_XiTYov"
      }
    },
    {
      "cell_type": "code",
      "source": [
        "X = df.drop('is_fraud', axis=1)\n",
        "y = df['is_fraud']"
      ],
      "metadata": {
        "id": "af1e-s09TdnY"
      },
      "execution_count": 7,
      "outputs": []
    },
    {
      "cell_type": "markdown",
      "source": [
        "Division des données en ensembles d'entraînement et de test (80% / 20%)"
      ],
      "metadata": {
        "id": "-NZx5ib2TjIT"
      }
    },
    {
      "cell_type": "code",
      "source": [
        "X_train, X_test, y_train, y_test = train_test_split(X, y, test_size=0.2, random_state=42)\n"
      ],
      "metadata": {
        "id": "4wPGnNJvTnhn"
      },
      "execution_count": 8,
      "outputs": []
    },
    {
      "cell_type": "markdown",
      "source": [
        "Création du préprocesseur pour les colonnes catégorielles et numériques"
      ],
      "metadata": {
        "id": "XB3xC3mUTx_S"
      }
    },
    {
      "cell_type": "code",
      "source": [
        "preprocessor = ColumnTransformer(\n",
        "    transformers=[\n",
        "        ('num', StandardScaler(), numerical_cols),\n",
        "        ('cat', OneHotEncoder(handle_unknown='ignore'), categorical_cols)\n",
        "    ]\n",
        ")"
      ],
      "metadata": {
        "id": "T5sEntZnT0Vh"
      },
      "execution_count": 9,
      "outputs": []
    },
    {
      "cell_type": "markdown",
      "source": [
        "### ***Partie 2 : Entraînement des modèles***\n"
      ],
      "metadata": {
        "id": "ZQRjO2CAT83V"
      }
    },
    {
      "cell_type": "markdown",
      "source": [
        "Modèle de Régression Logistique"
      ],
      "metadata": {
        "id": "Sx8v3YRlUCcd"
      }
    },
    {
      "cell_type": "code",
      "source": [
        "logistic_model = Pipeline(steps=[\n",
        "    ('preprocessor', preprocessor),\n",
        "    ('classifier', LogisticRegression())\n",
        "])\n",
        "logistic_model.fit(X_train, y_train)\n",
        "y_pred_logistic = logistic_model.predict(X_test)"
      ],
      "metadata": {
        "id": "qnT60bouUBSv"
      },
      "execution_count": 10,
      "outputs": []
    },
    {
      "cell_type": "markdown",
      "source": [
        "Modèle de Forêt Aléatoire"
      ],
      "metadata": {
        "id": "6gVtYAmOUSn9"
      }
    },
    {
      "cell_type": "code",
      "source": [
        "forest_model = Pipeline(steps=[\n",
        "    ('preprocessor', preprocessor),\n",
        "    ('classifier', RandomForestClassifier())\n",
        "])\n",
        "forest_model.fit(X_train, y_train)\n",
        "y_pred_forest = forest_model.predict(X_test)"
      ],
      "metadata": {
        "id": "Vp66uH1xUUnB"
      },
      "execution_count": 11,
      "outputs": []
    },
    {
      "cell_type": "markdown",
      "source": [
        " Modèle de SVM (Support Vector Machine)**texte en gras**"
      ],
      "metadata": {
        "id": "IKEmfjbIUe8x"
      }
    },
    {
      "cell_type": "code",
      "source": [
        "svm_model = Pipeline(steps=[\n",
        "    ('preprocessor', preprocessor),\n",
        "    ('classifier', SVC())\n",
        "])\n",
        "svm_model.fit(X_train, y_train)\n",
        "y_pred_svm = svm_model.predict(X_test)"
      ],
      "metadata": {
        "id": "B2C4fkvbUhqw"
      },
      "execution_count": 12,
      "outputs": []
    },
    {
      "cell_type": "markdown",
      "source": [
        "### ***Partie 3 : Évaluation des modèles***"
      ],
      "metadata": {
        "id": "UeqttAGPUsFW"
      }
    },
    {
      "cell_type": "code",
      "source": [
        "print(\"\\nÉvaluation des modèles :\")"
      ],
      "metadata": {
        "colab": {
          "base_uri": "https://localhost:8080/"
        },
        "id": "UT6wE0TCUvsZ",
        "outputId": "326056ae-36bc-4425-9029-8b7c7dc581c7"
      },
      "execution_count": 13,
      "outputs": [
        {
          "output_type": "stream",
          "name": "stdout",
          "text": [
            "\n",
            "Évaluation des modèles :\n"
          ]
        }
      ]
    },
    {
      "cell_type": "markdown",
      "source": [
        "Précision, rappel, et F1-score pour chaque modèle"
      ],
      "metadata": {
        "id": "Ui6oKme8U04V"
      }
    },
    {
      "cell_type": "code",
      "source": [
        "print(\"\\nRégression Logistique :\")\n",
        "print(classification_report(y_test, y_pred_logistic))\n"
      ],
      "metadata": {
        "colab": {
          "base_uri": "https://localhost:8080/"
        },
        "id": "EXjiw6nnU4K_",
        "outputId": "264057d1-1ed0-40ad-9864-0cee2e298c8b"
      },
      "execution_count": 14,
      "outputs": [
        {
          "output_type": "stream",
          "name": "stdout",
          "text": [
            "\n",
            "Régression Logistique :\n",
            "              precision    recall  f1-score   support\n",
            "\n",
            "           0       0.40      0.24      0.30       102\n",
            "           1       0.48      0.67      0.56       108\n",
            "\n",
            "    accuracy                           0.46       210\n",
            "   macro avg       0.44      0.45      0.43       210\n",
            "weighted avg       0.44      0.46      0.43       210\n",
            "\n"
          ]
        }
      ]
    },
    {
      "cell_type": "code",
      "source": [
        "print(\"\\nForêt Aléatoire :\")\n",
        "print(classification_report(y_test, y_pred_forest))"
      ],
      "metadata": {
        "colab": {
          "base_uri": "https://localhost:8080/"
        },
        "id": "oe1NwVGKU-xY",
        "outputId": "1c8fdc7e-f702-43fc-dbda-e67eb4b881c3"
      },
      "execution_count": 15,
      "outputs": [
        {
          "output_type": "stream",
          "name": "stdout",
          "text": [
            "\n",
            "Forêt Aléatoire :\n",
            "              precision    recall  f1-score   support\n",
            "\n",
            "           0       0.45      0.41      0.43       102\n",
            "           1       0.48      0.52      0.50       108\n",
            "\n",
            "    accuracy                           0.47       210\n",
            "   macro avg       0.46      0.47      0.46       210\n",
            "weighted avg       0.47      0.47      0.47       210\n",
            "\n"
          ]
        }
      ]
    },
    {
      "cell_type": "code",
      "source": [
        "print(\"\\nSVM :\")\n",
        "print(classification_report(y_test, y_pred_svm))"
      ],
      "metadata": {
        "colab": {
          "base_uri": "https://localhost:8080/"
        },
        "id": "jecO3yCAVGzH",
        "outputId": "9adc893c-98c2-49dc-f1bd-f1973ee2d577"
      },
      "execution_count": 16,
      "outputs": [
        {
          "output_type": "stream",
          "name": "stdout",
          "text": [
            "\n",
            "SVM :\n",
            "              precision    recall  f1-score   support\n",
            "\n",
            "           0       0.49      0.39      0.43       102\n",
            "           1       0.52      0.61      0.56       108\n",
            "\n",
            "    accuracy                           0.50       210\n",
            "   macro avg       0.50      0.50      0.50       210\n",
            "weighted avg       0.50      0.50      0.50       210\n",
            "\n"
          ]
        }
      ]
    },
    {
      "cell_type": "markdown",
      "source": [
        "Comparaison des **modèles**"
      ],
      "metadata": {
        "id": "IUWsTugtVQtc"
      }
    },
    {
      "cell_type": "code",
      "source": [
        "models = {\n",
        "    \"Régression Logistique\": logistic_model,\n",
        "    \"Forêt Aléatoire\": forest_model,\n",
        "    \"SVM\": svm_model\n",
        "}"
      ],
      "metadata": {
        "id": "9f3dqFAKVS2i"
      },
      "execution_count": 17,
      "outputs": []
    },
    {
      "cell_type": "markdown",
      "source": [
        "# Choisir le modèle ayant les meilleures performances en fonction du F1-score"
      ],
      "metadata": {
        "id": "LlbR8WAAVbgj"
      }
    },
    {
      "cell_type": "code",
      "source": [
        "best_model = max(models, key=lambda model: f1_score(y_test, models[model].predict(X_test)))\n",
        "print(f\"\\nLe meilleur modèle pour la détection des fraudes est : {best_model}\")"
      ],
      "metadata": {
        "colab": {
          "base_uri": "https://localhost:8080/"
        },
        "id": "MmT3nfEjVdii",
        "outputId": "ee6ac6ec-d08e-4b37-d016-a36786ecc14f"
      },
      "execution_count": 18,
      "outputs": [
        {
          "output_type": "stream",
          "name": "stdout",
          "text": [
            "\n",
            "Le meilleur modèle pour la détection des fraudes est : SVM\n"
          ]
        }
      ]
    }
  ]
}